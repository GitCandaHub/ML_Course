{
  "nbformat": 4,
  "nbformat_minor": 0,
  "metadata": {
    "colab": {
      "name": "Jupiter Experiment",
      "provenance": [],
      "authorship_tag": "ABX9TyOl1XI6RVh/oongm+L2OAOZ",
      "include_colab_link": true
    },
    "kernelspec": {
      "name": "python3",
      "display_name": "Python 3"
    },
    "language_info": {
      "name": "python"
    }
  },
  "cells": [
    {
      "cell_type": "markdown",
      "metadata": {
        "id": "view-in-github",
        "colab_type": "text"
      },
      "source": [
        "<a href=\"https://colab.research.google.com/github/GitCandaHub/ML_Course/blob/Lessons/Jupiter_Experiment.ipynb\" target=\"_parent\"><img src=\"https://colab.research.google.com/assets/colab-badge.svg\" alt=\"Open In Colab\"/></a>"
      ]
    },
    {
      "cell_type": "code",
      "source": [
        ""
      ],
      "metadata": {
        "id": "_mXhnL7aZx5b"
      },
      "execution_count": null,
      "outputs": []
    },
    {
      "cell_type": "markdown",
      "source": [
        "##Jupiter Experiment: **First Notebook**\n",
        "\n",
        "$$ \\epsilon = \\frac{1}{m} \\sum_{h=4}^{m} (a x_h + b - y_h)^2$$"
      ],
      "metadata": {
        "id": "qRvJt2VRL-Nh"
      }
    },
    {
      "cell_type": "code",
      "source": [
        "print('Table of squares')\n",
        "for i in range(10):\n",
        "  print(f'{i} time {i} = {i*i}')\n",
        "print('The time taken for this operation is the following:')\n",
        "%time"
      ],
      "metadata": {
        "colab": {
          "base_uri": "https://localhost:8080/"
        },
        "id": "QJiRLLwiOfMs",
        "outputId": "0a04ed6f-0d44-4eee-fc8c-8ceedb23a3dc"
      },
      "execution_count": 11,
      "outputs": [
        {
          "output_type": "stream",
          "name": "stdout",
          "text": [
            "Table of squares\n",
            "0 time 0 = 0\n",
            "1 time 1 = 1\n",
            "2 time 2 = 4\n",
            "3 time 3 = 9\n",
            "4 time 4 = 16\n",
            "5 time 5 = 25\n",
            "6 time 6 = 36\n",
            "7 time 7 = 49\n",
            "8 time 8 = 64\n",
            "9 time 9 = 81\n",
            "The time taken for this operation is the following:\n",
            "CPU times: user 4 µs, sys: 0 ns, total: 4 µs\n",
            "Wall time: 9.78 µs\n"
          ]
        }
      ]
    }
  ]
}