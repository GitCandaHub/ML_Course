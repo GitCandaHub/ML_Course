{
  "cells": [
    {
      "cell_type": "markdown",
      "metadata": {
        "id": "view-in-github",
        "colab_type": "text"
      },
      "source": [
        "<a href=\"https://colab.research.google.com/github/GitCandaHub/ML_Course/blob/Lessons/Notebooks/Python_Quick_Start.ipynb\" target=\"_parent\"><img src=\"https://colab.research.google.com/assets/colab-badge.svg\" alt=\"Open In Colab\"/></a>"
      ]
    },
    {
      "cell_type": "markdown",
      "metadata": {
        "id": "2EQ3aMz5KrjT"
      },
      "source": [
        "# Python Quick Start\n",
        "\n",
        "Python is a popular programming language used for many applications. Interestingly, it is widely used for machine learning. This is due in part to it's simple syntax, interactive nature, and numerous machine learning libraries. It's easy to quickly test things out, which is important during data analysis or model development.\n",
        "\n",
        "We will focus on Python 3 here."
      ]
    },
    {
      "cell_type": "markdown",
      "metadata": {
        "id": "HHHYgpbFL4-N"
      },
      "source": [
        "## Basic Syntax\n",
        "\n",
        "[Data types](https://docs.python.org/3.4/reference/datamodel.html), [operators](https://docs.python.org/3.4/library/operator.html), and variables. Python is interactive, so we can try things out by just entering code and running it in this notebook."
      ]
    },
    {
      "cell_type": "code",
      "execution_count": 3,
      "metadata": {
        "colab": {
          "base_uri": "https://localhost:8080/"
        },
        "id": "e8wn727POHDT",
        "outputId": "b19db5aa-7441-4f16-83b9-bb8c0d5f3a3f"
      },
      "outputs": [
        {
          "output_type": "execute_result",
          "data": {
            "text/plain": [
              "11"
            ]
          },
          "metadata": {},
          "execution_count": 3
        }
      ],
      "source": [
        "# Numbers, e.g. int, float, bool, complex\n",
        "\n",
        "11"
      ]
    },
    {
      "cell_type": "code",
      "execution_count": 2,
      "metadata": {
        "colab": {
          "base_uri": "https://localhost:8080/"
        },
        "id": "RPm4AG4kbEw0",
        "outputId": "077c2e02-b6b1-4a64-ff99-6027650a869c"
      },
      "outputs": [
        {
          "output_type": "execute_result",
          "data": {
            "text/plain": [
              "3.1415926535897"
            ]
          },
          "metadata": {},
          "execution_count": 2
        }
      ],
      "source": [
        "3.1415926535897"
      ]
    },
    {
      "cell_type": "code",
      "execution_count": 4,
      "metadata": {
        "colab": {
          "base_uri": "https://localhost:8080/"
        },
        "id": "bE7teAo0bIPE",
        "outputId": "8e6c1b8e-3265-4edc-b734-b8db77671fd3"
      },
      "outputs": [
        {
          "output_type": "execute_result",
          "data": {
            "text/plain": [
              "True"
            ]
          },
          "metadata": {},
          "execution_count": 4
        }
      ],
      "source": [
        "True"
      ]
    },
    {
      "cell_type": "code",
      "execution_count": 1,
      "metadata": {
        "colab": {
          "base_uri": "https://localhost:8080/"
        },
        "id": "qGOImoA2bKHa",
        "outputId": "08655566-7291-4a32-cadc-a20c991e1f2d"
      },
      "outputs": [
        {
          "output_type": "execute_result",
          "data": {
            "text/plain": [
              "(1+2j)"
            ]
          },
          "metadata": {},
          "execution_count": 1
        }
      ],
      "source": [
        "# Complex or imaginary numbers\n",
        "\n",
        "1+2j"
      ]
    },
    {
      "cell_type": "code",
      "execution_count": 5,
      "metadata": {
        "colab": {
          "base_uri": "https://localhost:8080/"
        },
        "id": "IzEjfhsSG5MP",
        "outputId": "0cec6edf-2d73-4afd-9c11-047a5396d740"
      },
      "outputs": [
        {
          "output_type": "stream",
          "name": "stdout",
          "text": [
            "None\n"
          ]
        }
      ],
      "source": [
        "# None is similar to null on other languages\n",
        "\n",
        "a = None\n",
        "print(a)"
      ]
    },
    {
      "cell_type": "code",
      "execution_count": 10,
      "metadata": {
        "colab": {
          "base_uri": "https://localhost:8080/"
        },
        "id": "3bGPFjxJUjla",
        "outputId": "62b0f597-3df1-4a55-c028-4415e575d9e4"
      },
      "outputs": [
        {
          "output_type": "execute_result",
          "data": {
            "text/plain": [
              "NoneType"
            ]
          },
          "metadata": {},
          "execution_count": 10
        }
      ],
      "source": [
        "# type() can tell us the type of a variable\n",
        "\n",
        "a = None\n",
        "type(a)"
      ]
    },
    {
      "cell_type": "code",
      "execution_count": null,
      "metadata": {
        "id": "6J9HxRECRiDi"
      },
      "outputs": [],
      "source": [
        "# Strings can be defined with single or double quotes\n",
        "\n",
        "'This is a string'"
      ]
    },
    {
      "cell_type": "code",
      "execution_count": null,
      "metadata": {
        "id": "6iel--V5Rod7"
      },
      "outputs": [],
      "source": [
        "\"This is also a string\""
      ]
    },
    {
      "cell_type": "code",
      "execution_count": null,
      "metadata": {
        "id": "DkCP-uPTRsO4"
      },
      "outputs": [],
      "source": [
        "# Get the length of a string\n",
        "\n",
        "len('some string')"
      ]
    },
    {
      "cell_type": "code",
      "execution_count": 13,
      "metadata": {
        "colab": {
          "base_uri": "https://localhost:8080/",
          "height": 35
        },
        "id": "vGnLAm1OR1L6",
        "outputId": "495edf9d-1033-4758-f603-861e32044762"
      },
      "outputs": [
        {
          "output_type": "execute_result",
          "data": {
            "text/plain": [
              "'s'"
            ],
            "application/vnd.google.colaboratory.intrinsic+json": {
              "type": "string"
            }
          },
          "metadata": {},
          "execution_count": 13
        }
      ],
      "source": [
        "# Select a character within a string\n",
        "\n",
        "a = 'some string'\n",
        "a[0]"
      ]
    },
    {
      "cell_type": "code",
      "execution_count": null,
      "metadata": {
        "id": "OwtwX0K6SgVz"
      },
      "outputs": [],
      "source": [
        "# Python checks array bounds\n",
        "\n",
        "a = 'some string'\n",
        "# a[20]"
      ]
    },
    {
      "cell_type": "code",
      "execution_count": null,
      "metadata": {
        "id": "xKZ3jhLISNzA"
      },
      "outputs": [],
      "source": [
        "# Negative indexes select from the end\n",
        "\n",
        "a = 'some string'\n",
        "a[-1]"
      ]
    },
    {
      "cell_type": "code",
      "execution_count": null,
      "metadata": {
        "id": "Osb-GVD7SBHh"
      },
      "outputs": [],
      "source": [
        "# Select a range of characters, uses a left closed, right open interval\n",
        "\n",
        "a = 'some string'\n",
        "a[0:5]"
      ]
    },
    {
      "cell_type": "code",
      "execution_count": null,
      "metadata": {
        "id": "14ciHg-BSava"
      },
      "outputs": [],
      "source": [
        "# Negative index work with ranges also\n",
        "\n",
        "a = 'some string'\n",
        "a[5:-2]"
      ]
    },
    {
      "cell_type": "markdown",
      "metadata": {
        "id": "Kd3FLpHXaT2N"
      },
      "source": [
        "### String formatting\n",
        "\n",
        "Python supports multiple styles of string formatting:\n",
        "\n",
        "\n",
        "*   [printf](https://docs.python.org/3/library/stdtypes.html#printf-style-string-formatting)\n",
        "*   [format()](https://docs.python.org/3.4/library/string.html#formatspec)\n",
        "\n"
      ]
    },
    {
      "cell_type": "code",
      "execution_count": null,
      "metadata": {
        "id": "AVtaLbChTXc2"
      },
      "outputs": [],
      "source": [
        "# printf style formatting\n",
        "\n",
        "answer = 42\n",
        "'The answer to the ultimate question of life, the universe, and everything is %d' % answer"
      ]
    },
    {
      "cell_type": "code",
      "execution_count": null,
      "metadata": {
        "id": "sn6VS1MOHVNA"
      },
      "outputs": [],
      "source": [
        "# multiple values\n",
        "\n",
        "length = 8.0\n",
        "width = 4.0\n",
        "'The dimensions are %.2f feet long and %.2f feet wide' % (length, width)"
      ]
    },
    {
      "cell_type": "code",
      "execution_count": null,
      "metadata": {
        "id": "P8PKLUnqHVNB"
      },
      "outputs": [],
      "source": [
        "# format(...) method\n",
        "\n",
        "answer = 42\n",
        "'The answer to the ultimate question of life, the universe, and everything is {0:d}'.format(answer)"
      ]
    },
    {
      "cell_type": "code",
      "execution_count": null,
      "metadata": {
        "id": "MhwDiS9rHVNB"
      },
      "outputs": [],
      "source": [
        "# named values\n",
        "\n",
        "length = 8.0\n",
        "width = 4.0\n",
        "'The dimensions are {length:.2f} feet long and {width:.2f} feet wide'.format(width=width, length=length)"
      ]
    },
    {
      "cell_type": "markdown",
      "metadata": {
        "id": "5m4XM7qjWfJo"
      },
      "source": [
        "### Type Conversion"
      ]
    },
    {
      "cell_type": "code",
      "execution_count": null,
      "metadata": {
        "id": "JMzoX-ipWkcA"
      },
      "outputs": [],
      "source": [
        "pi = 3.1415926535897\n",
        "type(pi)"
      ]
    },
    {
      "cell_type": "code",
      "execution_count": null,
      "metadata": {
        "id": "0BBZv2o4Wu6g"
      },
      "outputs": [],
      "source": [
        "int(pi)"
      ]
    },
    {
      "cell_type": "code",
      "execution_count": null,
      "metadata": {
        "id": "FzbZ1NQ4W-Xg"
      },
      "outputs": [],
      "source": [
        "complex(pi)"
      ]
    },
    {
      "cell_type": "code",
      "execution_count": null,
      "metadata": {
        "id": "4avOgb6iWxrx"
      },
      "outputs": [],
      "source": [
        "int('42')"
      ]
    },
    {
      "cell_type": "code",
      "execution_count": null,
      "metadata": {
        "id": "bSgBvoNeW3hJ"
      },
      "outputs": [],
      "source": [
        "str(42)"
      ]
    },
    {
      "cell_type": "code",
      "execution_count": null,
      "metadata": {
        "id": "epmKkhMIGo8I"
      },
      "outputs": [],
      "source": [
        "bool(0)"
      ]
    },
    {
      "cell_type": "markdown",
      "metadata": {
        "id": "0MwkiyFEHVND"
      },
      "source": [
        "## Flow Control\n",
        "\n",
        "Spaces or tabs are used to group statements together. Unlike many languages today, whitespace is significant in Python."
      ]
    },
    {
      "cell_type": "code",
      "execution_count": null,
      "metadata": {
        "id": "7KU-aAJoHVNE"
      },
      "outputs": [],
      "source": [
        "for i in range(5):\n",
        "    print('%d, squared: %d' % (i, i*i))"
      ]
    },
    {
      "cell_type": "code",
      "execution_count": null,
      "metadata": {
        "id": "q4aB4ImOHVNE"
      },
      "outputs": [],
      "source": [
        "i = 0\n",
        "while i < 5:\n",
        "    print('%d, squared: %d' % (i, i*i))\n",
        "    i = i + 1"
      ]
    },
    {
      "cell_type": "code",
      "execution_count": null,
      "metadata": {
        "id": "VE4-oD7vHVNE"
      },
      "outputs": [],
      "source": [
        "for i in range(1, 10):\n",
        "    if i % 2 == 0:\n",
        "        print('%d is divisible by two' % (i))\n",
        "    elif i % 3 == 0:\n",
        "        print('%d is divisible by three' % (i))\n",
        "    else:\n",
        "        print('%d is not divisible by two or three' % (i))"
      ]
    },
    {
      "cell_type": "markdown",
      "metadata": {
        "id": "MiNZ8-THMGaQ"
      },
      "source": [
        "## Data Structures\n",
        "\n",
        "### Lists\n",
        "\n",
        "Lists contain any number of ordered values."
      ]
    },
    {
      "cell_type": "code",
      "execution_count": null,
      "metadata": {
        "id": "n6zfxlBYQwqc"
      },
      "outputs": [],
      "source": [
        "[1, 2, 3]"
      ]
    },
    {
      "cell_type": "code",
      "execution_count": null,
      "metadata": {
        "id": "wgIvI40zQ2iJ"
      },
      "outputs": [],
      "source": [
        "a = [1, 2, 3]\n",
        "len(a)"
      ]
    },
    {
      "cell_type": "code",
      "execution_count": null,
      "metadata": {
        "id": "MrfJQkmyHVNF"
      },
      "outputs": [],
      "source": [
        "# Iterate through a list\n",
        "\n",
        "for value in a:\n",
        "    print('Value is %d' % value)"
      ]
    },
    {
      "cell_type": "code",
      "execution_count": null,
      "metadata": {
        "id": "OMl1LY2XHVNF"
      },
      "outputs": [],
      "source": [
        "a = [1, 2, 3]\n",
        "a.append(4)\n",
        "a"
      ]
    },
    {
      "cell_type": "code",
      "execution_count": null,
      "metadata": {
        "id": "33i5smW9HadB"
      },
      "outputs": [],
      "source": [
        "# Add two lists\n",
        "\n",
        "a = [1, 2, 3]\n",
        "b = [7, 8, 9]\n",
        "\n",
        "a+b"
      ]
    },
    {
      "cell_type": "code",
      "execution_count": null,
      "metadata": {
        "id": "sN4Oe48mHkkw"
      },
      "outputs": [],
      "source": [
        "# List comprehension\n",
        "\n",
        "a = [2*i for i in range(10)]\n",
        "a"
      ]
    },
    {
      "cell_type": "code",
      "execution_count": null,
      "metadata": {
        "id": "4C1d30LxHsK4"
      },
      "outputs": [],
      "source": [
        "# Reverse a list\n",
        "\n",
        "a = [2*i for i in range(10)]\n",
        "a.reverse()\n",
        "a"
      ]
    },
    {
      "cell_type": "code",
      "execution_count": null,
      "metadata": {
        "id": "SSERRxx8Ic4c"
      },
      "outputs": [],
      "source": [
        "a.sort()\n",
        "a"
      ]
    },
    {
      "cell_type": "markdown",
      "metadata": {
        "id": "pAPUGctAHVNG"
      },
      "source": [
        "### Dictionaries\n",
        "\n",
        "Dictionaries contain key-value pairs. Similar to Java HashMap."
      ]
    },
    {
      "cell_type": "code",
      "execution_count": null,
      "metadata": {
        "id": "mphsjQOlHVNG"
      },
      "outputs": [],
      "source": [
        "band = { 'David St. Hubbins':'Rhythm Guitar', 'Nigel Tufnel':'Lead Guitar', 'Derek Smalls':'Bass', 'Drums':'Unknown' }\n",
        "band"
      ]
    },
    {
      "cell_type": "code",
      "execution_count": null,
      "metadata": {
        "id": "kNXEYKvmHVNG"
      },
      "outputs": [],
      "source": [
        "for name in band:\n",
        "    print('Name: %s, instrument: %s' % (name, band[name]))"
      ]
    },
    {
      "cell_type": "code",
      "execution_count": null,
      "metadata": {
        "id": "zrrHGiaYHVNG"
      },
      "outputs": [],
      "source": [
        "for name, instrument in band.items():\n",
        "    print('Name: %s, instrument: %s' % (name, instrument))"
      ]
    },
    {
      "cell_type": "code",
      "execution_count": null,
      "metadata": {
        "id": "g9dfKfHeHVNG"
      },
      "outputs": [],
      "source": [
        "band['Drums'] = 'John \"Stumpy\" Pepys'\n",
        "\n",
        "for name in band:\n",
        "    print('Name: %s, instrument: %s' % (name, band[name]))"
      ]
    },
    {
      "cell_type": "markdown",
      "metadata": {
        "id": "zH7zPFeoMCU6"
      },
      "source": [
        "## Functions and Methods\n",
        "\n",
        "Functions and methods are similar, but differ slightly."
      ]
    },
    {
      "cell_type": "code",
      "execution_count": null,
      "metadata": {
        "id": "2BS31fldUKDz"
      },
      "outputs": [],
      "source": [
        "# len() is a method\n",
        "\n",
        "a = 'some string'\n",
        "len(a)"
      ]
    },
    {
      "cell_type": "code",
      "execution_count": null,
      "metadata": {
        "id": "bL_N3deVUQWK"
      },
      "outputs": [],
      "source": [
        "# upper() is a method\n",
        "\n",
        "a = 'some string'\n",
        "a.upper()"
      ]
    },
    {
      "cell_type": "code",
      "execution_count": null,
      "metadata": {
        "id": "e2ps7j1TUe4Z"
      },
      "outputs": [],
      "source": [
        "# dir() lists attributes and methods of an object\n",
        "\n",
        "a = 'some string'\n",
        "dir(a)"
      ]
    },
    {
      "cell_type": "code",
      "execution_count": null,
      "metadata": {
        "id": "pVXM5ZACVhnT"
      },
      "outputs": [],
      "source": [
        "# Use def to define a function\n",
        "\n",
        "def average(array):\n",
        "  n = len(array)\n",
        "  total = 0.0\n",
        "  for a in array:\n",
        "    total = total + a\n",
        "  return total / n\n",
        "\n",
        "average([1, 2, 3])"
      ]
    },
    {
      "cell_type": "code",
      "execution_count": null,
      "metadata": {
        "id": "bSC0VjeDXNXY"
      },
      "outputs": [],
      "source": [
        "# Functions can return tuples\n",
        "\n",
        "def statistics(array):\n",
        "  avg = average(array)\n",
        "  n = len(array)\n",
        "  total = 0.0\n",
        "  for a in array:\n",
        "    variance = a - avg\n",
        "    total += variance ** 2\n",
        "  stddev = total / n\n",
        "  return (avg, stddev)\n",
        "\n",
        "statistics([1, 2, 3])"
      ]
    },
    {
      "cell_type": "code",
      "execution_count": null,
      "metadata": {
        "id": "6NbDMklxX-hs"
      },
      "outputs": [],
      "source": [
        "# Assign to a tuple\n",
        "\n",
        "(avg, stddev) = statistics([1, 2, 3])\n",
        "print('The average is %.2f and the standard deviation is %.2f' % (avg, stddev))"
      ]
    },
    {
      "cell_type": "markdown",
      "metadata": {
        "id": "6D7CKgOPQSzF"
      },
      "source": [
        "## Classes\n",
        "\n",
        "Use the class keyword to define classses."
      ]
    },
    {
      "cell_type": "code",
      "execution_count": null,
      "metadata": {
        "id": "9ztIx4IjKqvW"
      },
      "outputs": [],
      "source": [
        "class BankAccount(object):\n",
        "  def __init__(self, accountNumber, initialBalance, interestRate):\n",
        "    self.accountNumber = accountNumber\n",
        "    self.balance = initialBalance\n",
        "    self.interestRate = interestRate\n",
        "  \n",
        "  def deposit(self, amount):\n",
        "    self.balance += amount\n",
        "  \n",
        "  def withdraw(self, amount):\n",
        "    if self.balance >= amount:\n",
        "      self.balance -= amount\n",
        "      return amount\n",
        "    raise Exception('Insufficient balance for withdrawal: only %.2f in account %d' % (self.balance, self.accountNumber))\n",
        "  \n",
        "  def addInterest(self):\n",
        "    self.balance *= 1.0 + self.interestRate/100.0\n",
        "  \n",
        "  def transferTo(self, otherAccount, amount):\n",
        "    otherAccount.deposit(self.withdraw(amount))\n",
        "  \n",
        "  def __str__(self):\n",
        "    return 'Account %d, balance: %.2f' % (self.accountNumber, self.balance)"
      ]
    },
    {
      "cell_type": "code",
      "execution_count": null,
      "metadata": {
        "id": "RR7vPMAtDh-7"
      },
      "outputs": [],
      "source": [
        "checking = BankAccount(101, 100.0, 1.0)\n",
        "savings = BankAccount(201, 1000.0, 5.0)\n",
        "\n",
        "print(checking)\n",
        "print(savings)\n",
        "checking.addInterest()\n",
        "savings.addInterest()\n",
        "\n",
        "savings.transferTo(checking, 500)\n",
        "\n",
        "print(checking)\n",
        "print(savings)\n",
        "\n",
        "# savings.transferTo(checking, 1000)"
      ]
    },
    {
      "cell_type": "markdown",
      "metadata": {
        "id": "URDoWEMQJEdg"
      },
      "source": [
        "## Reading and Writing files"
      ]
    },
    {
      "cell_type": "code",
      "execution_count": null,
      "metadata": {
        "id": "A_v0ZAX6JIwf"
      },
      "outputs": [],
      "source": [
        "# Write a file, 'w' opens a file for writing, 'a' appends to an existing file\n",
        "\n",
        "with open('somefile.txt', 'w') as f:\n",
        "  f.write('First line\\n')\n",
        "  f.write('Second line\\n')"
      ]
    },
    {
      "cell_type": "code",
      "execution_count": null,
      "metadata": {
        "id": "jx3mqmASJt_X"
      },
      "outputs": [],
      "source": [
        "# strip() removes the trailing \\n\n",
        "\n",
        "with open('somefile.txt') as f:\n",
        "  print(f.readline().strip())"
      ]
    },
    {
      "cell_type": "code",
      "execution_count": null,
      "metadata": {
        "id": "k2lTneQUKRfD"
      },
      "outputs": [],
      "source": [
        "with open('somefile.txt') as f:\n",
        "  print(f.readlines())"
      ]
    },
    {
      "cell_type": "markdown",
      "metadata": {
        "id": "cxv30sH9bm4N"
      },
      "source": [
        "## Modules\n",
        "\n",
        "[import](https://docs.python.org/3/reference/simple_stmts.html#import) can be used to refer to modules."
      ]
    },
    {
      "cell_type": "code",
      "execution_count": null,
      "metadata": {
        "id": "pYjERSx-bmQJ"
      },
      "outputs": [],
      "source": [
        "import matplotlib.pyplot as plt\n",
        "import math\n",
        "\n",
        "x = [0.1*i for i in range(64)]\n",
        "sin = [math.sin(i) for i in x]\n",
        "cos = [math.cos(i) for i in x]\n",
        "\n",
        "plt.plot(x, sin, label='sin(x)', color='blue', linewidth=2.5)\n",
        "plt.plot(x, cos, label='cos(x)', color='red', linewidth=0.5)\n",
        "plt.ylabel('y')\n",
        "plt.xlabel('x')\n",
        "plt.legend(loc='upper right')\n",
        "plt.show()"
      ]
    },
    {
      "cell_type": "code",
      "execution_count": null,
      "metadata": {
        "id": "ELj8WTyPHVNI"
      },
      "outputs": [],
      "source": []
    }
  ],
  "metadata": {
    "colab": {
      "collapsed_sections": [],
      "name": "Python Quick Start.ipynb",
      "provenance": [],
      "include_colab_link": true
    },
    "kernelspec": {
      "display_name": "Python 3",
      "language": "python",
      "name": "python3"
    },
    "language_info": {
      "codemirror_mode": {
        "name": "ipython",
        "version": 3
      },
      "file_extension": ".py",
      "mimetype": "text/x-python",
      "name": "python",
      "nbconvert_exporter": "python",
      "pygments_lexer": "ipython3",
      "version": "3.6.8"
    }
  },
  "nbformat": 4,
  "nbformat_minor": 0
}